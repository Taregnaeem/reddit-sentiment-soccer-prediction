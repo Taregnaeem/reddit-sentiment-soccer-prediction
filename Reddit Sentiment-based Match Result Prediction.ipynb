{
 "cells": [
  {
   "cell_type": "markdown",
   "metadata": {},
   "source": [
    "# Reddit Sentiment-based Soccer Match Prediction"
   ]
  },
  {
   "cell_type": "markdown",
   "metadata": {},
   "source": [
    "In this project, my goal is to predict the soccer match results based on the sentiment of the comments in the corresponding Reddit soccer (r/soccer) post-match threads. First, I collect the raw data using reddit API. For each match, I design and compute various sentiment metrics classified by the commenter's flair (team). Second, using statistical tests, I draw inferences on the variance in the sentiment for different flair types across different results. Using this analysis, I evaluate machine learning models for match result prediction based on the sentiment."
   ]
  },
  {
   "cell_type": "markdown",
   "metadata": {},
   "source": [
    "## Table of Contents\n",
    "\n",
    "1. [Introduction](#introduction)\n",
    "\n",
    "2. [Setup](#setup)\n",
    "\n",
    "3. [Data Collection](#data-collection)\n",
    "\n",
    "4. [Exploratory Data Analysis](#eda)\n",
    "\n",
    "5. [Inferential Statistics](#stat-inference)\n",
    "\n",
    "6. [Data Imputation](#data-imputation)\n",
    "\n",
    "7. [Binary Classification](#binary-classification)\n",
    "\n",
    "8. [Conclusion](#conclusion)"
   ]
  },
  {
   "cell_type": "markdown",
   "metadata": {},
   "source": [
    "<a id =\"introduction\"></a>"
   ]
  },
  {
   "cell_type": "markdown",
   "metadata": {},
   "source": [
    "## 1. Introduction "
   ]
  },
  {
   "cell_type": "markdown",
   "metadata": {},
   "source": [
    "Reddit is a social news website and forum where content is socially curated and promoted by site members through voting. Subreddits are communities centered around a topic, running from rather broad (like the r/worldnews subreddit) or super niche, like the subreddit for discussing Manchester United midfielder Ander Herrera's goal celebrations (r/herreracelebrations/). \n",
    "\n",
    "In this project, I focus on the subreddit for soccer content [/r/soccer](https://www.reddit.com/r/soccer/), comprising of an enormous community of over 500,000 subscribers. This is the largest sports-related subreddit! Hundreds of submissions (posts) are voted based on their content and discussed on a daily basis. The common submissions include live goals, news articles and pre-, live and post-match analysis. Many a time /r/soccer is where I vent my frustration whenever Manchester United suffers defeat!  The anonymity of Reddit provides a powerful tool for users to express their opinions about the clubs they support and also rival clubs. This unique feature provides a mechanism to prevent the building of echo chambers which was a hot topic in the recently held 2016 US elections.\n",
    "\n",
    "/r/soccer also provides each subscriber the feature to select a \"flair\" which is the team crest (team logo) of the club/country the user supports. A miniature team logo is displayed beside the username in their posts and comments. This gives other readers context and insight into the user's thinking and adds another interesting dimension to the conversations that take place. In this project, I focus on the Post-Match Threads which are discussion threads created immediately after a soccer match has ended. My hypothesis is that the sentiment of the commenters supporting the team that lost is widely different from the commenters supporting the team that won. And when the game is a draw, the sentiment for both teams might be a bit closer. However, during the 90 min of football, one usually goes through a wide variety of emotions independent of your team winnning or losing. Sometimes the result might be a draw but the equalizer would've been scored in the dying minutes of the game. In that case, the supporters of the team that scored in the final minutes are expected to have a better feeling at the end of the game. Is it possible to capture these emotions in the post-match threads? That is basically the goal of this project.\n",
    "\n",
    "Using [Python Reddit API wrapper](https://praw.readthedocs.io/en/latest/) (praw), we can easily extract Reddit data. You can filter submissions from a particular subreddit during a specific period and add additional search queries to filter the submissions. For a given submission, you can access the data at individual comment level. For example, in this project, I utilize the top 10 comments for each flair type."
   ]
  },
  {
   "cell_type": "markdown",
   "metadata": {},
   "source": [
    "<a id=\"setup\"></a> "
   ]
  },
  {
   "cell_type": "markdown",
   "metadata": {},
   "source": [
    "## 2. Setup "
   ]
  },
  {
   "cell_type": "code",
   "execution_count": 315,
   "metadata": {
    "collapsed": true
   },
   "outputs": [],
   "source": [
    "# Data Collection and Transformations\n",
    "import praw\n",
    "import numpy as np\n",
    "import pandas as pd\n",
    "import datetime as dt\n",
    "import time\n",
    "import unicodedata\n",
    "import re\n",
    "import editdistance\n",
    "import pickle\n",
    "from sklearn.preprocessing import Imputer \n",
    "\n",
    "# Sentiment Analysis\n",
    "from textblob import TextBlob\n",
    "\n",
    "# Statistical Testing\n",
    "import statsmodels.api as sm\n",
    "from statsmodels.formula.api import ols\n",
    "import scipy\n",
    "\n",
    "# Machine Learning\n",
    "from sklearn.model_selection import train_test_split, cross_val_score\n",
    "from sklearn.linear_model import LinearRegression, LogisticRegression\n",
    "from sklearn.model_selection import learning_curve\n",
    "from sklearn.naive_bayes import GaussianNB\n",
    "from sklearn.ensemble import VotingClassifier\n",
    "from sklearn.metrics import roc_curve, auc, classification_report\n",
    "\n",
    "# Class imbalance \n",
    "from imblearn.over_sampling import SMOTE\n",
    "from imblearn.pipeline import make_pipeline\n",
    "\n",
    "# Plotting \n",
    "import matplotlib\n",
    "import matplotlib.pyplot as plt\n",
    "plt.rcParams['figure.figsize'] = [10,8]\n",
    "import seaborn as sns\n",
    "%matplotlib inline"
   ]
  },
  {
   "cell_type": "markdown",
   "metadata": {},
   "source": [
    "<a id =\"data-collection\"></a>"
   ]
  },
  {
   "cell_type": "markdown",
   "metadata": {},
   "source": [
    "# 3. Data Collection "
   ]
  },
  {
   "cell_type": "markdown",
   "metadata": {},
   "source": [
    "In this sub-section, I perform the data collection and computation of the metrics of interest. Our final dataframe will include each submission in its own row and its metrics and other info in the columns. Therefore, the metrics are computed at a per-submission granularity. The key concepts of data generation are as follows:\n",
    "\n",
    "1. **Match Info**: For each Post-Match Thread (submission), I find out the two teams that are taking part and the Match Score. This information can be obtained using regular expressions on the submission title alone. The title is usually in the following format: \n",
    " [Post Match Thread] Manchester United 3-0 Liverpool (English Premier League). In this classification, Manchester United is the home team, Liverpool is the away team and the final score is 3-0. The match result has 3 possible values: 1 if home team wins, 0 in case of a draw and -1 when the away team wins.\n",
    "\n",
    "2. **Flair-based Classification**: Once the team names are learnt, I classify the comments based on the commenter's flair i.e. supporting team. There are 3 classes of classification: Home, Away and Others. Others refers to commenters with other team flairs.\n",
    "\n",
    "3. **Per-Flair Sentiment Metrics**: For each flair type, I find out the top Ntop comments among all the comments in the submission. Then, using textblob NLP package, I find out the subjectivity and sensitivity of the filtered comments individually and together. I compute the weighted averages of sentiment polarity based on two kinds of weight, subjectivity and comment score. Also, the standard deviation in the polarity is recorded. \n",
    "\n",
    "Apart from the sentiment metrics, I also collect the submission score (~ number of upvotes), total number of comments and submission creation time. In this manner, each record is generated. For this project, I used submissions during the period Feb 9, 2014 to April 5, 2017. To reduce the standard deviations in the user sentiment within a flair typeof a given submission, I only used the submissions with a minimum of 100 comments.\n",
    "\n",
    "The following cells in this sub-section execute the above key concepts in code."
   ]
  },
  {
   "cell_type": "markdown",
   "metadata": {},
   "source": [
    "### 3.1 Reddit Agent Initialization"
   ]
  },
  {
   "cell_type": "code",
   "execution_count": null,
   "metadata": {
    "collapsed": false
   },
   "outputs": [],
   "source": [
    "reddit = praw.Reddit(user_agent = 'xxxx',client_id = 'xxxx',client_secret = 'xxxx',username='xxxx',password='xxxxx')\n",
    "print(reddit.user.me())"
   ]
  },
  {
   "cell_type": "code",
   "execution_count": null,
   "metadata": {
    "collapsed": false
   },
   "outputs": [],
   "source": [
    "# Datetime objects\n",
    "start_date = dt.date(2013,1,1)\n",
    "end_date = dt.date(2017,4,5)\n",
    "# Converting to UNIX timestamp\n",
    "start_time = int(time.mktime(start_date.timetuple()))\n",
    "end_time = int(time.mktime(end_date.timetuple()))"
   ]
  },
  {
   "cell_type": "code",
   "execution_count": null,
   "metadata": {
    "collapsed": false
   },
   "outputs": [],
   "source": [
    "subreddit = reddit.subreddit('soccer')\n",
    "#Typical terms in a submission on /r/soccer for Post-Match Thread\n",
    "query = \"(and title:'post-match thread')\"\n",
    "#List of Submission instances\n",
    "submissions = subreddit.submissions(start = start_time, end = end_time, extra_query=query)"
   ]
  },
  {
   "cell_type": "code",
   "execution_count": null,
   "metadata": {
    "collapsed": true
   },
   "outputs": [],
   "source": [
    "def string_normalize(x):\n",
    "    \"\"\"\n",
    "    Function to normalize special characters in non-English languages\n",
    "    Input: \n",
    "    x: Sentence\n",
    "    Output: \n",
    "    Transformed sentence\n",
    "    \"\"\"\n",
    "    if not x:\n",
    "        return\n",
    "    \n",
    "    x = unicodedata.normalize('NFD',x).encode('ascii','ignore')\n",
    "    return x.decode(\"utf-8\")"
   ]
  },
  {
   "cell_type": "code",
   "execution_count": null,
   "metadata": {
    "collapsed": false
   },
   "outputs": [],
   "source": [
    "def get_match_info(submission_title):\n",
    "    \"\"\"\n",
    "    Function to extract the team names and match score from the title\n",
    "    Input: \n",
    "    submission_title: Reddit submission title\n",
    "    Output: \n",
    "    match_info: list [Team A name, Team A score, Team B score, Team B name]  \n",
    "    \"\"\"\n",
    "    # Regular expression to get groups (Team A), (Team A score), (Team B score), (Team B)\n",
    "    match = re.search(r'Thread.\\s(\\w+)\\s(\\w*)\\s*(\\d+)\\s*-\\s*(\\d+)\\s(.+)',submission_title)\n",
    "    if not match:\n",
    "        return None\n",
    "    else:\n",
    "        match_info = list(match.groups())\n",
    "        \n",
    "        # If team A has two words, then join\n",
    "        if match_info[1]:\n",
    "            match_info[0] += ' ' + match_info[1]\n",
    "        \n",
    "        del match_info[1]\n",
    "        \n",
    "        # If second team name has additional Competition name e.g. (English Premier League)\n",
    "        if \"(\" in match_info[3]:\n",
    "            match_info[3] = match_info[3].split(\" (\")[0]\n",
    "        elif \"[\" in match_info[3]:\n",
    "            match_info[3] = match_info[3].split(\" [\")[0]\n",
    "            \n",
    "        return match_info"
   ]
  },
  {
   "cell_type": "markdown",
   "metadata": {},
   "source": [
    "### 3.2 Sentiment Computation Functions"
   ]
  },
  {
   "cell_type": "code",
   "execution_count": null,
   "metadata": {
    "collapsed": false
   },
   "outputs": [],
   "source": [
    "def compute_sentiment(comment):\n",
    "    \"\"\"\n",
    "    Returns the sentiment polarity of the comment body\n",
    "    using textblob package\n",
    "    input: comment instance\n",
    "    output: \n",
    "    sentiment property is a namedtuple of the form \n",
    "    Sentiment(polarity, subjectivity). The polarity \n",
    "    score is a float within the range [-1.0, 1.0]. \n",
    "    The subjectivity is a float within the range \n",
    "    [0.0, 1.0] where 0.0 is very objective and 1.0 \n",
    "    is very subjective.\n",
    "    \"\"\"\n",
    "    return TextBlob(comment.body).sentiment\n",
    "\n",
    "def comments_sentiment(comments_list, Ntop = None):\n",
    "    \"\"\"\n",
    "    Function to sort the comments in the given list of comments,\n",
    "    extract the top Ntop comments and return list of sentiment\n",
    "    polarities.\n",
    "    Inputs: \n",
    "    comments_list            : list of comments\n",
    "    Ntop                     : Number of top comments from each flair type for whom\n",
    "                               sentiment polarities will be collected. If None, all \n",
    "                               comments will be considered.\n",
    "    Outputs:\n",
    "    polarity_by_score        : polarity weighted by comments\n",
    "    polarity_by_subjectivity : polarity weighted by subjectivity\n",
    "    polarity_std             : standard deviation of polarities of individual comments\n",
    "    polarity_overall         : Polarity obtained by combining top N comments together\n",
    "    \"\"\"\n",
    "    \n",
    "    # empty list, return NaN\n",
    "    if not len(comments_list):\n",
    "        return [np.nan]*3\n",
    "    \n",
    "    if not Ntop:\n",
    "        Ntop = len(comments_list)\n",
    "    \n",
    "    comments_list.sort(key= lambda comment: comment.score, reverse=True)\n",
    "    \n",
    "    # Computing weighted polarity based on comment score and based on subjectivity\n",
    "    comments_score = [comment.score for comment in comments_list[:Ntop]]\n",
    "    comments_polarity = []\n",
    "    comments_subjectivity = []\n",
    "    \n",
    "    for comment in comments_list[:Ntop]:\n",
    "        sentiment = compute_sentiment(comment)\n",
    "        comments_polarity.append(sentiment.polarity)\n",
    "        comments_subjectivity.append(sentiment.polarity)\n",
    "    \n",
    "    polarity_by_score = (np.sum(np.multiply(comments_polarity,comments_score))/\n",
    "                         np.sum(comments_score))\n",
    "    polarity_by_subjectivity = (np.sum(np.multiply(comments_polarity,comments_subjectivity))/\n",
    "                                len(comments_subjectivity))\n",
    "    polarity_std = np.std(comments_polarity)\n",
    "    \n",
    "    comments_overall = \" \".join([comment.body for comment in comments_list[:Ntop]])\n",
    "    polarity_overall = TextBlob(comments_overall).sentiment.polarity\n",
    "    \n",
    "    return [polarity_by_score,polarity_by_subjectivity,polarity_std,polarity_overall]\n",
    "\n",
    "def submission_sentiment(submission,team_a,team_b, Ntop = None):\n",
    "    \"\"\"\n",
    "    Function to obtain the sentiment polarities for top N highest \n",
    "    scoring comments for each of Team A, Team B and Other commenter\n",
    "    flairs.\n",
    "    Inputs: \n",
    "    submission       : submission instance\n",
    "    team_a           : Team A name\n",
    "    team_b           : Team B name\n",
    "    \n",
    "    Output: \n",
    "    polarity_metrics : combined list of polarity metrics for all flair types\n",
    "    \"\"\"\n",
    "    \n",
    "    submission.comments.replace_more(limit=0)\n",
    "    team_a_comments = []\n",
    "    team_b_comments = []\n",
    "    other_comments = []\n",
    "    \n",
    "    \n",
    "    ## Classfication of comments based on flair\n",
    "    for comment in submission.comments.list():\n",
    "        \n",
    "        flair = string_normalize(comment.author_flair_text)\n",
    "        \n",
    "        \"\"\"\n",
    "        Failing to detect whether a comment's flair belongs to\n",
    "        Team A or Team B when it actually belongs to one of the teams\n",
    "        will lead to incorrect classification as Other Teams flair type.\n",
    "        This results in an incorrect record generation. Examples include:\n",
    "        Hoffenheim in title has flair 1899 Hoffenhiem, West Brom in title \n",
    "        has flair West Bromwich Albion etc. Simple approach to take care\n",
    "        of above cases is to check if team name is stored in flair. However, \n",
    "        this does not address. Bayern Munich in title having flair \n",
    "        Bayern Munchen in comments.\n",
    "        Therefore, an extra condition for checking edit distance lesser than\n",
    "        equal to 3 is provided.\n",
    "        \"\"\"\n",
    "        if not flair: \n",
    "            other_comments.append(comment)\n",
    "        else:\n",
    "            if team_a in flair:\n",
    "                team_a_comments.append(comment)\n",
    "            elif team_b in flair:\n",
    "                team_b_comments.append(comment)\n",
    "            elif editdistance.eval(team_a,flair) <= 3:\n",
    "                team_a_comments.append(comment)\n",
    "            elif editdistance.eval(team_b,flair) <= 3:\n",
    "                team_b_comments.append(comment)\n",
    "            else:\n",
    "                other_comments.append(comment)\n",
    "            \n",
    "    # Combining the sentiment polarities and filling missing values\n",
    "    polarity_metrics = []\n",
    "    polarity_metrics += (comments_sentiment(team_a_comments, Ntop) +\n",
    "                         comments_sentiment(team_b_comments, Ntop) +\n",
    "                         comments_sentiment(other_comments, Ntop))          \n",
    "                         \n",
    "    return polarity_metrics"
   ]
  },
  {
   "cell_type": "markdown",
   "metadata": {},
   "source": [
    "### 3.3 Record generation per Submission"
   ]
  },
  {
   "cell_type": "code",
   "execution_count": null,
   "metadata": {
    "collapsed": false
   },
   "outputs": [],
   "source": [
    "data = []\n",
    "\n",
    "for submission in submissions:\n",
    "    \n",
    "    title = string_normalize(submission.title)\n",
    "    \n",
    "    # Excluding threads with less than 100 comments\n",
    "    if(submission.num_comments < 100):\n",
    "        continue\n",
    "    \n",
    "    # Get Match Info\n",
    "    match_info = get_match_info(title)\n",
    "    \n",
    "    # If title doesn't match with regex format\n",
    "    if not match_info:\n",
    "        continue\n",
    "    else:\n",
    "        # List for current record\n",
    "        record = []\n",
    "        \n",
    "        # Score: + 1 if Team A won; 0 if Team B won; -1 if Team B won\n",
    "        match_result = int(match_info[1]) - int(match_info[2])\n",
    "        if match_result:\n",
    "            match_result = match_result/abs(match_result)\n",
    "        record.append(match_result)\n",
    "    \n",
    "        # Title\n",
    "        record.append(title)\n",
    "    \n",
    "        # Submission Creation Time\n",
    "        creation_time = time.ctime(submission.created)\n",
    "        record.append(creation_time)\n",
    "        #print(creation_time)\n",
    "    \n",
    "        # Team Names\n",
    "        team_a = match_info[0].strip()\n",
    "        team_b = match_info[3].strip()\n",
    "        record.append(team_a)\n",
    "        record.append(team_b)\n",
    "        \n",
    "        # Get sentiments \n",
    "        polarity_metrics = submission_sentiment(submission, team_a,team_b,Ntop = 10)\n",
    "        record += polarity_metrics\n",
    "        \n",
    "        # Submission Score and Number of Comments\n",
    "        record.append(submission.num_comments)\n",
    "        record.append(submission.score)\n",
    "        \n",
    "        # Append to the main list\n",
    "        data.append(record)"
   ]
  },
  {
   "cell_type": "code",
   "execution_count": 158,
   "metadata": {
    "collapsed": false
   },
   "outputs": [],
   "source": [
    "raw_df = pd.DataFrame(data)\n",
    "raw_df.columns = ([\"Result\",\"Title\",\"Time\",\"Home Team\",\"Away Team\",\"Home Team Score Pol\",\n",
    "                   \"Home Team Subject Pol\",\"Home Team Pol SD\",\"Home Team Merged Pol\",\"Away Team Score Pol\",\n",
    "                  \"Away Team Subject Pol\",\"Away Team Pol SD\",\"Away Team Merged Pol\",\"Others Score Pol\",\n",
    "                  \"Others Subject Pol\",\"Others Pol SD\",\"Others Merged Pol\",\"Comments\",\"Submission Score\"])"
   ]
  },
  {
   "cell_type": "code",
   "execution_count": null,
   "metadata": {
    "collapsed": false
   },
   "outputs": [],
   "source": [
    "raw_df.shape"
   ]
  },
  {
   "cell_type": "markdown",
   "metadata": {},
   "source": [
    "Let's dump the generated dataframe into a pickle file to enable reuse."
   ]
  },
  {
   "cell_type": "code",
   "execution_count": null,
   "metadata": {
    "collapsed": true
   },
   "outputs": [],
   "source": [
    "pickle.dump(raw_df, open( \"top_10_merged_df.pckl\", \"wb\" ))"
   ]
  },
  {
   "cell_type": "markdown",
   "metadata": {},
   "source": [
    "<a id=\"eda\".</a>"
   ]
  },
  {
   "cell_type": "markdown",
   "metadata": {},
   "source": [
    "# 4. Exploratory Data Analysis"
   ]
  },
  {
   "cell_type": "markdown",
   "metadata": {},
   "source": [
    "To analyze the sentiment analysis in isolation, I do not consider the team names, submission scores and number of comments as features for the match result prediction. Therefore, the features include only polarity metrics. The response variable is the Match result.\n",
    "\n",
    "Before the transform, **we split the dataset into training(90%) and test (10%) sets.** I use the test dataset only for the final prediction."
   ]
  },
  {
   "cell_type": "code",
   "execution_count": 159,
   "metadata": {
    "collapsed": true
   },
   "outputs": [],
   "source": [
    "train_df, test_df = train_test_split(raw_df, test_size = 0.1)"
   ]
  },
  {
   "cell_type": "code",
   "execution_count": 160,
   "metadata": {
    "collapsed": false
   },
   "outputs": [
    {
     "data": {
      "text/html": [
       "<div>\n",
       "<table border=\"1\" class=\"dataframe\">\n",
       "  <thead>\n",
       "    <tr style=\"text-align: right;\">\n",
       "      <th></th>\n",
       "      <th>Result</th>\n",
       "      <th>Title</th>\n",
       "      <th>Time</th>\n",
       "      <th>Home Team</th>\n",
       "      <th>Away Team</th>\n",
       "      <th>Home Team Score Pol</th>\n",
       "      <th>Home Team Subject Pol</th>\n",
       "      <th>Home Team Pol SD</th>\n",
       "      <th>Home Team Merged Pol</th>\n",
       "      <th>Away Team Score Pol</th>\n",
       "      <th>Away Team Subject Pol</th>\n",
       "      <th>Away Team Pol SD</th>\n",
       "      <th>Away Team Merged Pol</th>\n",
       "      <th>Others Score Pol</th>\n",
       "      <th>Others Subject Pol</th>\n",
       "      <th>Others Pol SD</th>\n",
       "      <th>Others Merged Pol</th>\n",
       "      <th>Comments</th>\n",
       "      <th>Submission Score</th>\n",
       "    </tr>\n",
       "  </thead>\n",
       "  <tbody>\n",
       "    <tr>\n",
       "      <th>310</th>\n",
       "      <td>1.0</td>\n",
       "      <td>Post-Match Thread: Napoli 4-2 Milan [Serie A]</td>\n",
       "      <td>Sat Aug 27 23:45:33 2016</td>\n",
       "      <td>Napoli</td>\n",
       "      <td>Milan</td>\n",
       "      <td>0.477641</td>\n",
       "      <td>0.164769</td>\n",
       "      <td>0.250681</td>\n",
       "      <td>0.174040</td>\n",
       "      <td>0.077015</td>\n",
       "      <td>0.073719</td>\n",
       "      <td>0.257644</td>\n",
       "      <td>0.072777</td>\n",
       "      <td>-0.187607</td>\n",
       "      <td>0.229740</td>\n",
       "      <td>0.474747</td>\n",
       "      <td>0.004489</td>\n",
       "      <td>179.0</td>\n",
       "      <td>225.0</td>\n",
       "    </tr>\n",
       "    <tr>\n",
       "      <th>701</th>\n",
       "      <td>0.0</td>\n",
       "      <td>Post Match Thread: Leicester City 1-1 Tottenha...</td>\n",
       "      <td>Sat Aug 22 18:54:57 2015</td>\n",
       "      <td>Leicester City</td>\n",
       "      <td>Tottenham Hotspur</td>\n",
       "      <td>0.207044</td>\n",
       "      <td>0.101017</td>\n",
       "      <td>0.266720</td>\n",
       "      <td>0.235485</td>\n",
       "      <td>0.222321</td>\n",
       "      <td>0.149548</td>\n",
       "      <td>0.264658</td>\n",
       "      <td>0.195730</td>\n",
       "      <td>0.064273</td>\n",
       "      <td>0.070864</td>\n",
       "      <td>0.235325</td>\n",
       "      <td>0.161905</td>\n",
       "      <td>156.0</td>\n",
       "      <td>120.0</td>\n",
       "    </tr>\n",
       "    <tr>\n",
       "      <th>521</th>\n",
       "      <td>0.0</td>\n",
       "      <td>[Post Match Thread] Juventus 2 - 2 Bayern Munich</td>\n",
       "      <td>Tue Feb 23 23:39:18 2016</td>\n",
       "      <td>Juventus</td>\n",
       "      <td>Bayern Munich</td>\n",
       "      <td>-0.073774</td>\n",
       "      <td>0.100327</td>\n",
       "      <td>0.310462</td>\n",
       "      <td>0.078559</td>\n",
       "      <td>0.245735</td>\n",
       "      <td>0.133492</td>\n",
       "      <td>0.322366</td>\n",
       "      <td>0.087457</td>\n",
       "      <td>0.026900</td>\n",
       "      <td>0.023127</td>\n",
       "      <td>0.147305</td>\n",
       "      <td>0.016406</td>\n",
       "      <td>727.0</td>\n",
       "      <td>596.0</td>\n",
       "    </tr>\n",
       "    <tr>\n",
       "      <th>246</th>\n",
       "      <td>-1.0</td>\n",
       "      <td>Post Match Thread: Netherlands 0 - 1 France [W...</td>\n",
       "      <td>Mon Oct 10 23:42:00 2016</td>\n",
       "      <td>Netherlands</td>\n",
       "      <td>France</td>\n",
       "      <td>-0.053231</td>\n",
       "      <td>0.184059</td>\n",
       "      <td>0.389590</td>\n",
       "      <td>-0.025123</td>\n",
       "      <td>0.166324</td>\n",
       "      <td>0.245321</td>\n",
       "      <td>0.412635</td>\n",
       "      <td>0.275033</td>\n",
       "      <td>0.443235</td>\n",
       "      <td>0.260489</td>\n",
       "      <td>0.349601</td>\n",
       "      <td>0.264163</td>\n",
       "      <td>222.0</td>\n",
       "      <td>110.0</td>\n",
       "    </tr>\n",
       "    <tr>\n",
       "      <th>898</th>\n",
       "      <td>1.0</td>\n",
       "      <td>[Post Match Thread] Argentina 2-1 Bosnia and H...</td>\n",
       "      <td>Mon Jun 16 02:51:11 2014</td>\n",
       "      <td>Argentina</td>\n",
       "      <td>Bosnia and Herzegovina - Group F</td>\n",
       "      <td>0.160976</td>\n",
       "      <td>0.166814</td>\n",
       "      <td>0.320937</td>\n",
       "      <td>0.203657</td>\n",
       "      <td>NaN</td>\n",
       "      <td>NaN</td>\n",
       "      <td>NaN</td>\n",
       "      <td>-0.072189</td>\n",
       "      <td>0.073393</td>\n",
       "      <td>0.260801</td>\n",
       "      <td>-0.069549</td>\n",
       "      <td>678.000000</td>\n",
       "      <td>363.0</td>\n",
       "      <td>NaN</td>\n",
       "    </tr>\n",
       "  </tbody>\n",
       "</table>\n",
       "</div>"
      ],
      "text/plain": [
       "     Result                                              Title  \\\n",
       "310     1.0      Post-Match Thread: Napoli 4-2 Milan [Serie A]   \n",
       "701     0.0  Post Match Thread: Leicester City 1-1 Tottenha...   \n",
       "521     0.0   [Post Match Thread] Juventus 2 - 2 Bayern Munich   \n",
       "246    -1.0  Post Match Thread: Netherlands 0 - 1 France [W...   \n",
       "898     1.0  [Post Match Thread] Argentina 2-1 Bosnia and H...   \n",
       "\n",
       "                         Time       Home Team  \\\n",
       "310  Sat Aug 27 23:45:33 2016          Napoli   \n",
       "701  Sat Aug 22 18:54:57 2015  Leicester City   \n",
       "521  Tue Feb 23 23:39:18 2016        Juventus   \n",
       "246  Mon Oct 10 23:42:00 2016     Netherlands   \n",
       "898  Mon Jun 16 02:51:11 2014       Argentina   \n",
       "\n",
       "                            Away Team  Home Team Score Pol  \\\n",
       "310                             Milan             0.477641   \n",
       "701                 Tottenham Hotspur             0.207044   \n",
       "521                     Bayern Munich            -0.073774   \n",
       "246                            France            -0.053231   \n",
       "898  Bosnia and Herzegovina - Group F             0.160976   \n",
       "\n",
       "     Home Team Subject Pol  Home Team Pol SD  Home Team Merged Pol  \\\n",
       "310               0.164769          0.250681              0.174040   \n",
       "701               0.101017          0.266720              0.235485   \n",
       "521               0.100327          0.310462              0.078559   \n",
       "246               0.184059          0.389590             -0.025123   \n",
       "898               0.166814          0.320937              0.203657   \n",
       "\n",
       "     Away Team Score Pol  Away Team Subject Pol  Away Team Pol SD  \\\n",
       "310             0.077015               0.073719          0.257644   \n",
       "701             0.222321               0.149548          0.264658   \n",
       "521             0.245735               0.133492          0.322366   \n",
       "246             0.166324               0.245321          0.412635   \n",
       "898                  NaN                    NaN               NaN   \n",
       "\n",
       "     Away Team Merged Pol  Others Score Pol  Others Subject Pol  \\\n",
       "310              0.072777         -0.187607            0.229740   \n",
       "701              0.195730          0.064273            0.070864   \n",
       "521              0.087457          0.026900            0.023127   \n",
       "246              0.275033          0.443235            0.260489   \n",
       "898             -0.072189          0.073393            0.260801   \n",
       "\n",
       "     Others Pol SD  Others Merged Pol  Comments  Submission Score  \n",
       "310       0.474747           0.004489     179.0             225.0  \n",
       "701       0.235325           0.161905     156.0             120.0  \n",
       "521       0.147305           0.016406     727.0             596.0  \n",
       "246       0.349601           0.264163     222.0             110.0  \n",
       "898      -0.069549         678.000000     363.0               NaN  "
      ]
     },
     "execution_count": 160,
     "metadata": {},
     "output_type": "execute_result"
    }
   ],
   "source": [
    "train_df.head()"
   ]
  },
  {
   "cell_type": "code",
   "execution_count": 292,
   "metadata": {
    "collapsed": false
   },
   "outputs": [
    {
     "data": {
      "text/plain": [
       "((819, 12), (819,), (92, 12), (92,))"
      ]
     },
     "execution_count": 292,
     "metadata": {},
     "output_type": "execute_result"
    }
   ],
   "source": [
    "X_train = train_df.iloc[:,5:]\n",
    "y_train = train_df.iloc[:,0]\n",
    "\n",
    "X_test = test_df.iloc[:,5:]\n",
    "y_test = test_df.iloc[:,0]\n",
    "\n",
    "X_train.shape, y_train.shape, X_test.shape, y_test.shape"
   ]
  },
  {
   "cell_type": "code",
   "execution_count": 168,
   "metadata": {
    "collapsed": false
   },
   "outputs": [
    {
     "data": {
      "text/html": [
       "<div>\n",
       "<table border=\"1\" class=\"dataframe\">\n",
       "  <thead>\n",
       "    <tr style=\"text-align: right;\">\n",
       "      <th></th>\n",
       "      <th>Home Team Score Pol</th>\n",
       "      <th>Home Team Subject Pol</th>\n",
       "      <th>Home Team Pol SD</th>\n",
       "      <th>Home Team Merged Pol</th>\n",
       "      <th>Away Team Score Pol</th>\n",
       "      <th>Away Team Subject Pol</th>\n",
       "      <th>Away Team Pol SD</th>\n",
       "      <th>Away Team Merged Pol</th>\n",
       "      <th>Others Score Pol</th>\n",
       "      <th>Others Subject Pol</th>\n",
       "      <th>Others Pol SD</th>\n",
       "      <th>Others Merged Pol</th>\n",
       "    </tr>\n",
       "  </thead>\n",
       "  <tbody>\n",
       "    <tr>\n",
       "      <th>count</th>\n",
       "      <td>747.000000</td>\n",
       "      <td>747.000000</td>\n",
       "      <td>747.000000</td>\n",
       "      <td>803.000000</td>\n",
       "      <td>693.000000</td>\n",
       "      <td>693.000000</td>\n",
       "      <td>709.000000</td>\n",
       "      <td>819.000000</td>\n",
       "      <td>819.000000</td>\n",
       "      <td>819.000000</td>\n",
       "      <td>819.000000</td>\n",
       "      <td>819.000000</td>\n",
       "    </tr>\n",
       "    <tr>\n",
       "      <th>mean</th>\n",
       "      <td>0.070113</td>\n",
       "      <td>0.105142</td>\n",
       "      <td>0.265791</td>\n",
       "      <td>0.092933</td>\n",
       "      <td>inf</td>\n",
       "      <td>0.113218</td>\n",
       "      <td>0.241742</td>\n",
       "      <td>0.073809</td>\n",
       "      <td>0.083894</td>\n",
       "      <td>0.137413</td>\n",
       "      <td>7.458164</td>\n",
       "      <td>91.181794</td>\n",
       "    </tr>\n",
       "    <tr>\n",
       "      <th>std</th>\n",
       "      <td>0.196611</td>\n",
       "      <td>0.080792</td>\n",
       "      <td>0.107066</td>\n",
       "      <td>0.148296</td>\n",
       "      <td>NaN</td>\n",
       "      <td>0.084589</td>\n",
       "      <td>0.119918</td>\n",
       "      <td>0.142609</td>\n",
       "      <td>0.116776</td>\n",
       "      <td>0.103116</td>\n",
       "      <td>64.398131</td>\n",
       "      <td>321.517324</td>\n",
       "    </tr>\n",
       "    <tr>\n",
       "      <th>min</th>\n",
       "      <td>-0.500000</td>\n",
       "      <td>0.000000</td>\n",
       "      <td>0.000000</td>\n",
       "      <td>-0.750000</td>\n",
       "      <td>-0.700000</td>\n",
       "      <td>0.000000</td>\n",
       "      <td>-0.416667</td>\n",
       "      <td>-0.875000</td>\n",
       "      <td>-0.492895</td>\n",
       "      <td>-0.225000</td>\n",
       "      <td>-0.379167</td>\n",
       "      <td>-0.464167</td>\n",
       "    </tr>\n",
       "    <tr>\n",
       "      <th>25%</th>\n",
       "      <td>-0.029496</td>\n",
       "      <td>0.049510</td>\n",
       "      <td>0.197482</td>\n",
       "      <td>0.000000</td>\n",
       "      <td>-0.028516</td>\n",
       "      <td>0.054000</td>\n",
       "      <td>0.174735</td>\n",
       "      <td>-0.003559</td>\n",
       "      <td>0.020258</td>\n",
       "      <td>0.058076</td>\n",
       "      <td>0.168625</td>\n",
       "      <td>0.050298</td>\n",
       "    </tr>\n",
       "    <tr>\n",
       "      <th>50%</th>\n",
       "      <td>0.059756</td>\n",
       "      <td>0.089063</td>\n",
       "      <td>0.264848</td>\n",
       "      <td>0.093472</td>\n",
       "      <td>0.061649</td>\n",
       "      <td>0.092378</td>\n",
       "      <td>0.250926</td>\n",
       "      <td>0.072929</td>\n",
       "      <td>0.084991</td>\n",
       "      <td>0.111035</td>\n",
       "      <td>0.245543</td>\n",
       "      <td>0.145970</td>\n",
       "    </tr>\n",
       "    <tr>\n",
       "      <th>75%</th>\n",
       "      <td>0.160218</td>\n",
       "      <td>0.142861</td>\n",
       "      <td>0.336649</td>\n",
       "      <td>0.173732</td>\n",
       "      <td>0.147795</td>\n",
       "      <td>0.145223</td>\n",
       "      <td>0.314202</td>\n",
       "      <td>0.161638</td>\n",
       "      <td>0.150425</td>\n",
       "      <td>0.183932</td>\n",
       "      <td>0.328524</td>\n",
       "      <td>0.334314</td>\n",
       "    </tr>\n",
       "    <tr>\n",
       "      <th>max</th>\n",
       "      <td>2.375000</td>\n",
       "      <td>1.000000</td>\n",
       "      <td>0.625000</td>\n",
       "      <td>1.000000</td>\n",
       "      <td>inf</td>\n",
       "      <td>0.523377</td>\n",
       "      <td>0.659426</td>\n",
       "      <td>0.625000</td>\n",
       "      <td>0.443235</td>\n",
       "      <td>0.502562</td>\n",
       "      <td>967.000000</td>\n",
       "      <td>5602.000000</td>\n",
       "    </tr>\n",
       "  </tbody>\n",
       "</table>\n",
       "</div>"
      ],
      "text/plain": [
       "       Home Team Score Pol  Home Team Subject Pol  Home Team Pol SD  \\\n",
       "count           747.000000             747.000000        747.000000   \n",
       "mean              0.070113               0.105142          0.265791   \n",
       "std               0.196611               0.080792          0.107066   \n",
       "min              -0.500000               0.000000          0.000000   \n",
       "25%              -0.029496               0.049510          0.197482   \n",
       "50%               0.059756               0.089063          0.264848   \n",
       "75%               0.160218               0.142861          0.336649   \n",
       "max               2.375000               1.000000          0.625000   \n",
       "\n",
       "       Home Team Merged Pol  Away Team Score Pol  Away Team Subject Pol  \\\n",
       "count            803.000000           693.000000             693.000000   \n",
       "mean               0.092933                  inf               0.113218   \n",
       "std                0.148296                  NaN               0.084589   \n",
       "min               -0.750000            -0.700000               0.000000   \n",
       "25%                0.000000            -0.028516               0.054000   \n",
       "50%                0.093472             0.061649               0.092378   \n",
       "75%                0.173732             0.147795               0.145223   \n",
       "max                1.000000                  inf               0.523377   \n",
       "\n",
       "       Away Team Pol SD  Away Team Merged Pol  Others Score Pol  \\\n",
       "count        709.000000            819.000000        819.000000   \n",
       "mean           0.241742              0.073809          0.083894   \n",
       "std            0.119918              0.142609          0.116776   \n",
       "min           -0.416667             -0.875000         -0.492895   \n",
       "25%            0.174735             -0.003559          0.020258   \n",
       "50%            0.250926              0.072929          0.084991   \n",
       "75%            0.314202              0.161638          0.150425   \n",
       "max            0.659426              0.625000          0.443235   \n",
       "\n",
       "       Others Subject Pol  Others Pol SD  Others Merged Pol  \n",
       "count          819.000000     819.000000         819.000000  \n",
       "mean             0.137413       7.458164          91.181794  \n",
       "std              0.103116      64.398131         321.517324  \n",
       "min             -0.225000      -0.379167          -0.464167  \n",
       "25%              0.058076       0.168625           0.050298  \n",
       "50%              0.111035       0.245543           0.145970  \n",
       "75%              0.183932       0.328524           0.334314  \n",
       "max              0.502562     967.000000        5602.000000  "
      ]
     },
     "execution_count": 168,
     "metadata": {},
     "output_type": "execute_result"
    }
   ],
   "source": [
    "X_train.describe()"
   ]
  },
  {
   "cell_type": "markdown",
   "metadata": {},
   "source": [
    "Interestingly, all of our polarity metrics have positive medians just above 0 with a standard deviation close to 0.25. Strangely, the mean comment score weight polarity for Team B is Infinite. This might be an error arising out of the underlying package textblob that computes the polarities. Simples way to address such values is to replace them with NaN. Next, I fill the missing values."
   ]
  },
  {
   "cell_type": "code",
   "execution_count": 293,
   "metadata": {
    "collapsed": false
   },
   "outputs": [],
   "source": [
    "X_train.replace([np.inf,-np.inf],np.nan,inplace=True)\n",
    "X_test.replace([np.inf,-np.inf],np.nan, inplace=True)"
   ]
  },
  {
   "cell_type": "markdown",
   "metadata": {},
   "source": [
    "### 4.1 Home Team Advantage"
   ]
  },
  {
   "cell_type": "markdown",
   "metadata": {},
   "source": [
    "Clearly, there is an imbalance among our classes as shown below. The number of wins by Home Team is roughly equal to the same of draws and losses by home team. This is called the Home Advantage in soccer as the home team is more adept to the match condition coupled with the majority of match attendees supporting the home team.\n",
    "\n",
    "We need to factor this imbalance during our prediction modeling."
   ]
  },
  {
   "cell_type": "code",
   "execution_count": 175,
   "metadata": {
    "collapsed": false
   },
   "outputs": [
    {
     "data": {
      "text/plain": [
       "<matplotlib.text.Text at 0x111081b70>"
      ]
     },
     "execution_count": 175,
     "metadata": {},
     "output_type": "execute_result"
    },
    {
     "data": {
      "image/png": "[encoded data removed]",
      "text/plain": [
       "<matplotlib.figure.Figure at 0x1137e3940>"
      ]
     },
     "metadata": {},
     "output_type": "display_data"
    }
   ],
   "source": [
    "sns.distplot(y_train,kde=False)\n",
    "plt.ylabel(\"Frequency\")"
   ]
  },
  {
   "cell_type": "code",
   "execution_count": 170,
   "metadata": {
    "collapsed": false
   },
   "outputs": [
    {
     "data": {
      "text/plain": [
       "(819, 13)"
      ]
     },
     "execution_count": 170,
     "metadata": {},
     "output_type": "execute_result"
    }
   ],
   "source": [
    "train_eda = pd.concat([X_train,y_train],axis=1,join='outer')\n",
    "\n",
    "train_eda.shape"
   ]
  },
  {
   "cell_type": "code",
   "execution_count": 236,
   "metadata": {
    "collapsed": false
   },
   "outputs": [
    {
     "data": {
      "text/plain": [
       "(-0.25, 0.5)"
      ]
     },
     "execution_count": 236,
     "metadata": {},
     "output_type": "execute_result"
    },
    {
     "data": {
      "text/plain": [
       "<matplotlib.figure.Figure at 0x116bae2b0>"
      ]
     },
     "metadata": {},
     "output_type": "display_data"
    },
    {
     "data": {
      "image/png": "[encoded data removed]",
      "text/plain": [
       "<matplotlib.figure.Figure at 0x116154780>"
      ]
     },
     "metadata": {},
     "output_type": "display_data"
    }
   ],
   "source": [
    "# Reshaping the dataframe with our metrics of interest\n",
    "\n",
    "df_melt_score = pd.melt(train_eda,\n",
    "                 id_vars = ['Result'],\n",
    "                 value_vars = ['Home Team Score Pol','Away Team Score Pol','Others Score Pol'],\n",
    "                 var_name = 'Flair Type',\n",
    "                 value_name = 'Sentiment_Polarity')\n",
    "\n",
    "df_melt_score['Flair Type'] = df_melt_score['Flair Type'].apply(lambda x: x.split(' Score')[0])\n",
    "\n",
    "plt.figure(figsize=(15,10))\n",
    "g = sns.factorplot(x=\"Sentiment_Polarity\", y=\"Flair Type\",\n",
    "                   row=\"Result\",\n",
    "                   data=df_melt_score[df_melt_score.notnull()],\n",
    "                   orient=\"h\", size=2, aspect=3.5, palette=\"Set3\",\n",
    "                   kind=\"box\")\n",
    "\n",
    "plt.xlim(-0.25,0.5)"
   ]
  },
  {
   "cell_type": "markdown",
   "metadata": {},
   "source": [
    "*Observations*:\n",
    "    \n",
    "1. The median Polarity for Home Team drops when the result is -1 (Home Team Loss). This is expected according to our hypothesis.\n",
    "\n",
    "2. The median Polarity for Away Team is lowest when the result is 1.0 (Home Team Win).\n",
    "\n",
    "3. The median Polarity for Others flair type is surprisingly lowest when the result is a draw. \n",
    "\n",
    "4. However, the scale of these differences is negligible. For example, the difference in medians for the Home Team between Home Win and Home Loss is 0.1. This is negligible compared to the range of [-1,1] for sentiment polarity we obtained using textblob package. The difference is even more negligible for the other flair types.\n",
    "\n",
    "Next, I perform statistical test to find out, for each flair type, if the differences in the means of observed sentiment polarities under different classes can be explained by the sampling variability of the null hypothesis."
   ]
  },
  {
   "cell_type": "markdown",
   "metadata": {},
   "source": [
    "<a id=\"stat-inference\"></a>"
   ]
  },
  {
   "cell_type": "markdown",
   "metadata": {},
   "source": [
    "## 5. Inferential Statistics"
   ]
  },
  {
   "cell_type": "markdown",
   "metadata": {},
   "source": [
    "In this hypothesis, first, I will analyze the statistical significance of the differences in home team sentiment polarities for the groups of home team win, draw and home team loss. This testing will be performed independently for each flair type. The statistical test that best suits this scenario is the 1-way analysis of variance (ANOVA) test."
   ]
  },
  {
   "cell_type": "markdown",
   "metadata": {},
   "source": [
    "### 5.1 State Hypothesis"
   ]
  },
  {
   "cell_type": "markdown",
   "metadata": {},
   "source": [
    "**Null hypothesis:** The mean Home Team comment score-weighted polarity is same for the groups Home Team Win, Draw and Home Team Loss.\n",
    "\n",
    "**Alternative hypothesis:** The mean Home Team comment score-weighted polarity is different for at least one pair among the groups Home Team Win, Draw and Home Team Loss."
   ]
  },
  {
   "cell_type": "markdown",
   "metadata": {},
   "source": [
    "### 5.2 Check Conditions for 1-way ANOVA"
   ]
  },
  {
   "cell_type": "markdown",
   "metadata": {},
   "source": [
    "- **Independence**: The observations should be independent within and across groups. In our case, each observation represents a separate thread. As there are 500,000 users on the sub and our polarity metric computation that involves only the top 10 comments, we can assume the users contributing to our metrics are different. There is no overlapping of the matches between the groups as the Home team can either lose, win or draw. Hence, the assumption of independence across the groups is reasonable. \n",
    "\n",
    "- **Normality**: The data within each group should be nearly normal. Based on the figure below, none of the distributions seem to have exteme skewness.\n",
    "\n",
    "- **Variability**: Based on the box plots shown above, the variability for the Home Team is nearly same across the groups with a slightly bigger variation when there is a draw. "
   ]
  },
  {
   "cell_type": "code",
   "execution_count": 237,
   "metadata": {
    "collapsed": false
   },
   "outputs": [
    {
     "data": {
      "image/png": "[encoded data removed]",
      "text/plain": [
       "<matplotlib.figure.Figure at 0x1161348d0>"
      ]
     },
     "metadata": {},
     "output_type": "display_data"
    }
   ],
   "source": [
    "grid = sns.FacetGrid(df_melt_score, col='Result', row='Flair Type', size=2.2, aspect=1.6, xlim=(-1,1))\n",
    "grid.map(plt.hist, 'Sentiment_Polarity', alpha=.5, bins=20)\n",
    "grid.add_legend();"
   ]
  },
  {
   "cell_type": "code",
   "execution_count": 240,
   "metadata": {
    "collapsed": false
   },
   "outputs": [
    {
     "name": "stdout",
     "output_type": "stream",
     "text": [
      "HOME TEAM ANOVA test\n",
      "             sum_sq     df          F        PR(>F)\n",
      "Result     1.013946    1.0  27.149419  2.440290e-07\n",
      "Residual  27.823417  745.0        NaN           NaN\n",
      "AWAY TEAM ANOVA test\n",
      "             sum_sq     df          F    PR(>F)\n",
      "Result     0.385107    1.0  14.738866  0.000135\n",
      "Residual  18.028769  690.0        NaN       NaN\n",
      "Others ANOVA test\n",
      "             sum_sq     df         F    PR(>F)\n",
      "Result     0.001699    1.0  0.124452  0.724346\n",
      "Residual  11.153112  817.0       NaN       NaN\n"
     ]
    }
   ],
   "source": [
    "def anova_test(df,flair_type):\n",
    "    anova_df = df.loc[df['Flair Type']==flair_type].dropna()\n",
    "    mod = ols('Sentiment_Polarity ~ Result',\n",
    "                data=anova_df).fit()\n",
    "    return(sm.stats.anova_lm(mod, typ=2))\n",
    "\n",
    "\n",
    "print(\"HOME TEAM ANOVA test\")\n",
    "print(anova_test(df_melt_score,'Home Team'))\n",
    "print(\"AWAY TEAM ANOVA test\")\n",
    "print(anova_test(df_melt_score,'Away Team'))\n",
    "print(\"Others ANOVA test\")\n",
    "print(anova_test(df_melt_score,'Others'))"
   ]
  },
  {
   "cell_type": "markdown",
   "metadata": {},
   "source": [
    "*Observations*:\n",
    "\n",
    "1. Clearly, the p-value for the f-statistic obtained for the Home Team ANOVA test and Away Team ANOVA test are much lower than the significance level of 0.05. This provides us convincing evidence that the means for all possible match results aren't the same for Home Team sentiment polarity and Away Team sentiment polarity.\n",
    "\n",
    "2. In contrast, the p-value for Others ANOVA test is 0.7243246 and hence we fail to reject the null hypothesis. Combining this test result with our initial exploratory data analysis, we can remove the sentiment metrics related to Others flair type without any harm."
   ]
  },
  {
   "cell_type": "markdown",
   "metadata": {},
   "source": [
    "## 6. Data Imputation"
   ]
  },
  {
   "cell_type": "code",
   "execution_count": 288,
   "metadata": {
    "collapsed": false
   },
   "outputs": [
    {
     "data": {
      "text/plain": [
       "Home Team Score Pol       72\n",
       "Home Team Subject Pol     72\n",
       "Home Team Pol SD          72\n",
       "Home Team Merged Pol      16\n",
       "Away Team Score Pol      127\n",
       "Away Team Subject Pol    126\n",
       "Away Team Pol SD         110\n",
       "Away Team Merged Pol       0\n",
       "Others Score Pol           0\n",
       "Others Subject Pol         0\n",
       "Others Pol SD              0\n",
       "Others Merged Pol          0\n",
       "dtype: int64"
      ]
     },
     "execution_count": 288,
     "metadata": {},
     "output_type": "execute_result"
    }
   ],
   "source": [
    "X_train.isnull().sum()"
   ]
  },
  {
   "cell_type": "markdown",
   "metadata": {},
   "source": [
    "Values are missing for a Team when there are no commenters in the thread using the team's flair. This is expected at a greater scale for less popular teams/ teams with small fanbase. For polarity metrics, we could have assigned the value of 0 but that would indicate no sentiment. Therefore, the strategy I employ is to fill the missing values using the median value. \n",
    "\n",
    "I prefer median imputation as median is more robust to outliers in the data."
   ]
  },
  {
   "cell_type": "code",
   "execution_count": 302,
   "metadata": {
    "collapsed": false
   },
   "outputs": [],
   "source": [
    "from sklearn.preprocessing import Imputer \n",
    "\n",
    "Ndim = 13\n",
    "\n",
    "imr = Imputer(missing_values='NaN', strategy='median', axis=0)\n",
    "impute_df_train = imr.fit_transform(np.array(X_train.iloc[:,:Ndim]))\n",
    "impute_df_test = imr.transform(np.array(X_test.iloc[:,:Ndim]))\n",
    "\n",
    "X_train.iloc[:,:Ndim] = impute_df_train\n",
    "X_test.iloc[:,:Ndim] = impute_df_test"
   ]
  },
  {
   "cell_type": "markdown",
   "metadata": {},
   "source": [
    "Now, there are no missing values in our first 12 columns. Let's fill the missing values in Submission Score."
   ]
  },
  {
   "cell_type": "markdown",
   "metadata": {
    "collapsed": true
   },
   "source": [
    "With all missing values filled, let's analyze the relationship of our predictors with the response variable. Before that, let's standardize the distributions of our predictors so they are on the same scale."
   ]
  },
  {
   "cell_type": "markdown",
   "metadata": {},
   "source": [
    "Interestingly, 49.7% of the results in our training data set have Team A winning. There is a clear imbalance among the classes."
   ]
  },
  {
   "cell_type": "code",
   "execution_count": 298,
   "metadata": {
    "collapsed": false
   },
   "outputs": [
    {
     "data": {
      "text/plain": [
       "<matplotlib.axes._subplots.AxesSubplot at 0x1137ec9e8>"
      ]
     },
     "execution_count": 298,
     "metadata": {},
     "output_type": "execute_result"
    },
    {
     "data": {
      "image/png": "[encoded data removed]",
      "text/plain": [
       "<matplotlib.figure.Figure at 0x11b979e80>"
      ]
     },
     "metadata": {},
     "output_type": "display_data"
    }
   ],
   "source": [
    "train_corr = X_train.corr()\n",
    "\n",
    "fig = plt.figure(figsize=(8,6))\n",
    "sns.heatmap(train_corr,xticklabels=True, yticklabels=True)"
   ]
  },
  {
   "cell_type": "markdown",
   "metadata": {},
   "source": [
    "*Observations*:\n",
    "\n",
    "1. Negligible correlation between the sentiment polarities of the Home and Away flair types."
   ]
  },
  {
   "cell_type": "markdown",
   "metadata": {},
   "source": [
    "<a id=\"binary-classification\"></a>"
   ]
  },
  {
   "cell_type": "markdown",
   "metadata": {},
   "source": [
    "## 7. Binary Classification"
   ]
  },
  {
   "cell_type": "markdown",
   "metadata": {},
   "source": [
    "**To make the problem simpler, I consider a binary classification problem to differentiate between a draw and a win/loss.** I will return to the multi-class classification problem in the future."
   ]
  },
  {
   "cell_type": "code",
   "execution_count": 303,
   "metadata": {
    "collapsed": true
   },
   "outputs": [],
   "source": [
    "# First, let's save our data into a file\n",
    "f = open(\"cleaned_data.pckl\", \"wb\")\n",
    "pickle.dump(X_train,f)\n",
    "pickle.dump(y_train,f)\n",
    "pickle.dump(X_test,f)\n",
    "pickle.dump(y_test,f)"
   ]
  },
  {
   "cell_type": "code",
   "execution_count": 304,
   "metadata": {
    "collapsed": false
   },
   "outputs": [],
   "source": [
    "y_train = np.abs(y_train)\n",
    "\n",
    "y_test = np.abs(y_test)"
   ]
  },
  {
   "cell_type": "code",
   "execution_count": 274,
   "metadata": {
    "collapsed": false
   },
   "outputs": [
    {
     "data": {
      "text/plain": [
       "<matplotlib.axes._subplots.AxesSubplot at 0x11b98bb00>"
      ]
     },
     "execution_count": 274,
     "metadata": {},
     "output_type": "execute_result"
    },
    {
     "data": {
      "image/png": "[encoded data removed]",
      "text/plain": [
       "<matplotlib.figure.Figure at 0x119097668>"
      ]
     },
     "metadata": {},
     "output_type": "display_data"
    }
   ],
   "source": [
    "sns.distplot(y_train,kde=False)"
   ]
  },
  {
   "cell_type": "markdown",
   "metadata": {},
   "source": [
    "Clearly, there is an imbalance among the classes with over 75% belonging to the win/loss class. Let's analyze how sampling during the training places an important role in giving us the right estimate of our training and validation accuracy. Performing basic sampling will give us a overly-optimistic estimate of our performance.\n",
    "\n",
    "To overcome this, I utilize [SMOTE: Synthetic Minority Over-sampling Technique](https://www.jair.org/media/953/live-953-2037-jair.pdf) implemented in [imbalanced-learn](https://github.com/scikit-learn-contrib/imbalanced-learn/blob/master/README.rst), a python package offering a number of re-sampling techniques commonly used in datasets showing strong between-class imbalance. It is compatible with scikit-learn and is part of scikit-learn-contrib projects."
   ]
  },
  {
   "cell_type": "markdown",
   "metadata": {},
   "source": [
    "### 7.1 Imbalanced Class - Impact of Sampling"
   ]
  },
  {
   "cell_type": "code",
   "execution_count": 305,
   "metadata": {
    "collapsed": false
   },
   "outputs": [
    {
     "data": {
      "image/png": "[encoded data removed]",
      "text/plain": [
       "<matplotlib.figure.Figure at 0x11a39b5f8>"
      ]
     },
     "metadata": {},
     "output_type": "display_data"
    }
   ],
   "source": [
    "from sklearn.model_selection import learning_curve\n",
    "from imblearn.over_sampling import SMOTE\n",
    "from imblearn.pipeline import make_pipeline\n",
    "\n",
    "sm = SMOTE(random_state=42)\n",
    "scl = StandardScaler()\n",
    "clf = LogisticRegression(random_state=0)\n",
    "\n",
    "\n",
    "def generate_accuracy_curve(clf, label_train,label_valid, color_train = 'blue',color_valid='green'):\n",
    "    \"\"\"\n",
    "    Function to generate training and validation curves\n",
    "    \"\"\"\n",
    "    \n",
    "    train_sizes, train_scores, test_scores =\\\n",
    "                learning_curve(estimator=clf,\n",
    "                               X=X_train,\n",
    "                               y=y_train,\n",
    "                               train_sizes=np.linspace(0.1, 1.0, 10),\n",
    "                               cv=10,\n",
    "                               n_jobs=1)\n",
    "    train_mean = np.mean(train_scores, axis=1)\n",
    "    train_std = np.std(train_scores, axis=1)\n",
    "    test_mean = np.mean(test_scores, axis=1)\n",
    "    test_std = np.std(test_scores, axis=1)\n",
    "    \n",
    "\n",
    "    plt.plot(train_sizes, train_mean,\n",
    "             color=color_train, marker='o',\n",
    "             markersize=5, label=label_train)\n",
    "\n",
    "    plt.fill_between(train_sizes,\n",
    "                     train_mean + train_std,\n",
    "                     train_mean - train_std,\n",
    "                     alpha=0.15, color='blue')\n",
    "\n",
    "    plt.plot(train_sizes, test_mean,\n",
    "             color=color_valid, linestyle='--',\n",
    "             marker='s', markersize=5,\n",
    "             label=label_valid)\n",
    "\n",
    "    plt.fill_between(train_sizes,\n",
    "                     test_mean + test_std,\n",
    "                     test_mean - test_std,\n",
    "                     alpha=0.15, color='green')\n",
    "    \n",
    "    return\n",
    "\n",
    "\n",
    "plt.figure(figsize=(10,8))\n",
    "    \n",
    "plt.axhline(y=0.8,\n",
    "           linestyle = '--',\n",
    "           color = 'red',\n",
    "           )\n",
    "\n",
    "pipe_lr = make_pipeline(scl,clf)\n",
    "pipe_lr_smote = make_pipeline(sm,scl,clf)\n",
    "\n",
    "(generate_accuracy_curve(pipe_lr,\n",
    "                        \"Training Accuracy w/o SMOTE\",\n",
    "                        \"Validation Accuracy w/o SMOTE\",\n",
    "                        \"blue\",\"green\"))\n",
    "\n",
    "(generate_accuracy_curve(pipe_lr_smote,\n",
    "                        \"Training Accuracy w/ SMOTE\",\n",
    "                        \"Validation Accuracy w/ SMOTE\",\n",
    "                        \"magenta\",\"cyan\"))\n",
    "\n",
    "\n",
    "plt.grid()\n",
    "plt.xlabel('Number of training samples')\n",
    "plt.ylabel('Accuracy')\n",
    "plt.legend(loc='lower right',fontsize = 'xx-large')\n",
    "plt.ylim([0, 1.0])\n",
    "plt.tight_layout()\n",
    "# plt.savefig('./figures/learning_curve.png', dpi=300)\n",
    "plt.show()"
   ]
  },
  {
   "cell_type": "markdown",
   "metadata": {},
   "source": [
    "We observe both our training and validation accuracy well-below the desired accuracy. This indicates that our simple model underfits the training data."
   ]
  },
  {
   "cell_type": "markdown",
   "metadata": {},
   "source": [
    "## 7.2 Ensemble Voting classifier"
   ]
  },
  {
   "cell_type": "code",
   "execution_count": 320,
   "metadata": {
    "collapsed": false
   },
   "outputs": [],
   "source": [
    "RANDOM_STATE_SMOTE = 42    \n",
    "sm = SMOTE(random_state=RANDOM_STATE_SMOTE)    \n",
    "    \n",
    "sc = StandardScaler()\n",
    "    \n",
    "clf_lr = LogisticRegression(penalty='l2', \n",
    "                          C=1,\n",
    "                          random_state=1)\n",
    "clf_gnb = GaussianNB()\n",
    "clf_knn = KNeighborsClassifier(n_neighbors=1,\n",
    "                            p=2,\n",
    "                            metric='minkowski')\n",
    "\n",
    "pipe_lr = make_pipeline(sc,clf_lr)\n",
    "pipe_lr_smote = make_pipeline(sm,sc,clf_lr)\n",
    "pipe_gnb = make_pipeline(sm,sc,clf_gnb)\n",
    "pipe_knn = make_pipeline(sm,sc,clf_knn)\n",
    "\n",
    "clf_vote_soft = VotingClassifier(estimators=[\n",
    "        ('lr', pipe_lr), ('rf', pipe_rf), ('gnb', pipe_gnb),('knn', pipe_knn)], voting='soft')\n",
    "\n",
    "clf_labels = ['Logistic Regression', 'Random Forest', 'Gaussian NB', 'KNN','Voting - Soft']\n",
    "clf_list = [pipe_lr, pipe_rf, pipe_gnb, pipe_knn,clf_vote_soft]"
   ]
  },
  {
   "cell_type": "code",
   "execution_count": 321,
   "metadata": {
    "collapsed": false
   },
   "outputs": [
    {
     "name": "stdout",
     "output_type": "stream",
     "text": [
      "10-fold cross validation:\n",
      "\n",
      "ROC AUC: 0.54 (+/- 0.08) [Logistic Regression]\n",
      "ROC AUC: 0.55 (+/- 0.08) [Random Forest]\n",
      "ROC AUC: 0.53 (+/- 0.06) [Gaussian NB]\n",
      "ROC AUC: 0.50 (+/- 0.05) [KNN]\n",
      "ROC AUC: 0.54 (+/- 0.04) [Voting - Soft]\n"
     ]
    }
   ],
   "source": [
    "print('10-fold cross validation:\\n')\n",
    "for clf, label in zip(clf_list, clf_labels):\n",
    "    scores = cross_val_score(estimator=clf,\n",
    "                             X=X_train,\n",
    "                             y=y_train,\n",
    "                             cv=10,\n",
    "                             scoring='roc_auc')\n",
    "    print(\"ROC AUC: %0.2f (+/- %0.2f) [%s]\"\n",
    "          % (scores.mean(), scores.std(), label))"
   ]
  },
  {
   "cell_type": "markdown",
   "metadata": {},
   "source": [
    "### 7.3 Classification Report"
   ]
  },
  {
   "cell_type": "code",
   "execution_count": 309,
   "metadata": {
    "collapsed": false
   },
   "outputs": [
    {
     "name": "stdout",
     "output_type": "stream",
     "text": [
      "             precision    recall  f1-score   support\n",
      "\n",
      "       Draw       0.20      0.89      0.33        19\n",
      "   Win/Loss       0.78      0.10      0.17        73\n",
      "\n",
      "avg / total       0.66      0.26      0.20        92\n",
      "\n"
     ]
    }
   ],
   "source": [
    "pipe_gnb.fit(X_train,y_train)\n",
    "y_pred = pipe_gnb.predict(X_test)\n",
    "\n",
    "print(classification_report(y_test, y_pred, target_names=['Draw','Win/Loss']))"
   ]
  },
  {
   "cell_type": "code",
   "execution_count": 313,
   "metadata": {
    "collapsed": false
   },
   "outputs": [
    {
     "name": "stdout",
     "output_type": "stream",
     "text": [
      "             precision    recall  f1-score   support\n",
      "\n",
      "       Draw       0.22      0.53      0.31        19\n",
      "   Win/Loss       0.80      0.51      0.62        73\n",
      "\n",
      "avg / total       0.68      0.51      0.56        92\n",
      "\n"
     ]
    }
   ],
   "source": [
    "pipe_rf.fit(X_train,y_train)\n",
    "y_pred = pipe_rf.predict(X_test)\n",
    "\n",
    "print(classification_report(y_test, y_pred, target_names=['Draw','Win/Loss']))"
   ]
  },
  {
   "cell_type": "markdown",
   "metadata": {},
   "source": [
    "*Observations*:\n",
    "The Gaussian NB and Random Forest Classifiers differ in their Recalls. Gaussian NB has a high Recall of 0.89 for Draw"
   ]
  },
  {
   "cell_type": "markdown",
   "metadata": {},
   "source": [
    "<a id = \"conclusion\"></a>"
   ]
  },
  {
   "cell_type": "markdown",
   "metadata": {},
   "source": [
    "## 8. Conclusion"
   ]
  },
  {
   "cell_type": "markdown",
   "metadata": {},
   "source": [
    "In this project, I analyzed the sentiment polarity in the comments of Reddit's soccer subreddit. Using statistical tests, I found convincing evidence that the mean comment score-weighted sentiment polarity is different across match results for Home team commenters and Away team commenters. Next, I perform data cleaning to prepare the data for prediction analysis. I showed that when there are imbalanced classes, under-sampling and over-sampling techniques are essential for a more realistic estimate of the performance. Finally, I compared various machine learning models and showed that Sentiment polarity metrics in isolation provide poor performance in Match Result prediction."
   ]
  },
  {
   "cell_type": "code",
   "execution_count": null,
   "metadata": {
    "collapsed": true
   },
   "outputs": [],
   "source": []
  }
 ],
 "metadata": {
  "kernelspec": {
   "display_name": "Python 3",
   "language": "python",
   "name": "python3"
  },
  "language_info": {
   "codemirror_mode": {
    "name": "ipython",
    "version": 3
   },
   "file_extension": ".py",
   "mimetype": "text/x-python",
   "name": "python",
   "nbconvert_exporter": "python",
   "pygments_lexer": "ipython3",
   "version": "3.5.2"
  }
 },
 "nbformat": 4,
 "nbformat_minor": 2
}
